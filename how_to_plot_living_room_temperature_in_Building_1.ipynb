{
 "cells": [
  {
   "cell_type": "markdown",
   "metadata": {},
   "source": [
    "# how_to_plot_living_room_temperature_in_Building_1\n",
    "\n",
    "This notebook shows how to combine the data in the xml file and the csv file to plot the living room internal air temperature in Building 1."
   ]
  },
  {
   "cell_type": "markdown",
   "metadata": {},
   "source": [
    "## Import packages"
   ]
  },
  {
   "cell_type": "code",
   "execution_count": 1,
   "metadata": {},
   "outputs": [],
   "source": [
    "from lxml import etree\n",
    "import pandas as pd \n",
    "import os\n",
    "import matplotlib.pyplot as plt\n",
    "import matplotlib.dates as mdates\n",
    "from pandas.plotting import register_matplotlib_converters\n",
    "register_matplotlib_converters()"
   ]
  },
  {
   "cell_type": "markdown",
   "metadata": {},
   "source": [
    "## Setup data folder\n",
    "\n",
    "This is the folder where the xml file and csv file are stored. This can be modified as needed."
   ]
  },
  {
   "cell_type": "code",
   "execution_count": 2,
   "metadata": {},
   "outputs": [],
   "source": [
    "data_folder=r'C:\\Users\\cvskf\\OneDrive - Loughborough University\\_Data\\REFIT_Smart_Home_dataset_PUBLIC_v1\\Data'"
   ]
  },
  {
   "cell_type": "markdown",
   "metadata": {},
   "source": [
    "## Read the xml file\n",
    "\n",
    "Parses the refitXML file into an lxml etree variable"
   ]
  },
  {
   "cell_type": "code",
   "execution_count": 3,
   "metadata": {},
   "outputs": [],
   "source": [
    "xml_fn=r'REFIT_BUILDING_SURVEY.xml'\n",
    "tree=etree.parse(os.path.join(data_folder,xml_fn))"
   ]
  },
  {
   "cell_type": "markdown",
   "metadata": {},
   "source": [
    "## Read the csv file"
   ]
  },
  {
   "cell_type": "code",
   "execution_count": 4,
   "metadata": {},
   "outputs": [
    {
     "data": {
      "text/html": [
       "<div>\n",
       "<style scoped>\n",
       "    .dataframe tbody tr th:only-of-type {\n",
       "        vertical-align: middle;\n",
       "    }\n",
       "\n",
       "    .dataframe tbody tr th {\n",
       "        vertical-align: top;\n",
       "    }\n",
       "\n",
       "    .dataframe thead th {\n",
       "        text-align: right;\n",
       "    }\n",
       "</style>\n",
       "<table border=\"1\" class=\"dataframe\">\n",
       "  <thead>\n",
       "    <tr style=\"text-align: right;\">\n",
       "      <th></th>\n",
       "      <th>TimeSeriesVariable/@id</th>\n",
       "      <th>dateTime</th>\n",
       "      <th>data</th>\n",
       "    </tr>\n",
       "  </thead>\n",
       "  <tbody>\n",
       "    <tr>\n",
       "      <th>0</th>\n",
       "      <td>TimeSeriesVariable1</td>\n",
       "      <td>2013-10-02T05:00:00Z</td>\n",
       "      <td>17.772</td>\n",
       "    </tr>\n",
       "    <tr>\n",
       "      <th>1</th>\n",
       "      <td>TimeSeriesVariable1</td>\n",
       "      <td>2013-10-02T05:30:00Z</td>\n",
       "      <td>18.081</td>\n",
       "    </tr>\n",
       "    <tr>\n",
       "      <th>2</th>\n",
       "      <td>TimeSeriesVariable1</td>\n",
       "      <td>2013-10-02T06:00:00Z</td>\n",
       "      <td>18.176</td>\n",
       "    </tr>\n",
       "    <tr>\n",
       "      <th>3</th>\n",
       "      <td>TimeSeriesVariable1</td>\n",
       "      <td>2013-10-02T06:30:00Z</td>\n",
       "      <td>18.176</td>\n",
       "    </tr>\n",
       "    <tr>\n",
       "      <th>4</th>\n",
       "      <td>TimeSeriesVariable1</td>\n",
       "      <td>2013-10-02T07:00:00Z</td>\n",
       "      <td>18.105</td>\n",
       "    </tr>\n",
       "  </tbody>\n",
       "</table>\n",
       "</div>"
      ],
      "text/plain": [
       "  TimeSeriesVariable/@id              dateTime    data\n",
       "0    TimeSeriesVariable1  2013-10-02T05:00:00Z  17.772\n",
       "1    TimeSeriesVariable1  2013-10-02T05:30:00Z  18.081\n",
       "2    TimeSeriesVariable1  2013-10-02T06:00:00Z  18.176\n",
       "3    TimeSeriesVariable1  2013-10-02T06:30:00Z  18.176\n",
       "4    TimeSeriesVariable1  2013-10-02T07:00:00Z  18.105"
      ]
     },
     "execution_count": 4,
     "metadata": {},
     "output_type": "execute_result"
    }
   ],
   "source": [
    "csv_fn=r'REFIT_TIME_SERIES_VALUES.csv' \n",
    "df=pd.read_csv(os.path.join(data_folder,csv_fn))\n",
    "df.head()"
   ]
  },
  {
   "cell_type": "markdown",
   "metadata": {},
   "source": [
    "## Get Building 1 element"
   ]
  },
  {
   "cell_type": "code",
   "execution_count": 19,
   "metadata": {},
   "outputs": [
    {
     "data": {
      "text/plain": [
       "<Element {http://www.refitsmarthomes.org}Building at 0x2a85ad95f08>"
      ]
     },
     "execution_count": 19,
     "metadata": {},
     "output_type": "execute_result"
    }
   ],
   "source": [
    "NS={'a':'http://www.refitsmarthomes.org'}\n",
    "b=tree.xpath('/a:RefitXML/a:Stock/a:Building[@id=\"Building01\"]',namespaces=NS)[0]\n",
    "b"
   ]
  },
  {
   "cell_type": "markdown",
   "metadata": {},
   "source": [
    "## Get living room element"
   ]
  },
  {
   "cell_type": "code",
   "execution_count": 20,
   "metadata": {},
   "outputs": [
    {
     "data": {
      "text/plain": [
       "<Element {http://www.refitsmarthomes.org}Space at 0x2a823c1a8c8>"
      ]
     },
     "execution_count": 20,
     "metadata": {},
     "output_type": "execute_result"
    }
   ],
   "source": [
    "lr=b.xpath('./a:Space[@roomType=\"Living room\"]',namespaces=NS)[0]\n",
    "lr"
   ]
  },
  {
   "cell_type": "markdown",
   "metadata": {},
   "source": [
    "## Get TimeSeriesVariables which measured air temperature"
   ]
  },
  {
   "cell_type": "code",
   "execution_count": 26,
   "metadata": {},
   "outputs": [
    {
     "data": {
      "text/plain": [
       "[<Element {http://www.refitsmarthomes.org}TimeSeriesVariable at 0x2a800293a88>]"
      ]
     },
     "execution_count": 26,
     "metadata": {},
     "output_type": "execute_result"
    }
   ],
   "source": [
    "tsvs=lr.xpath('./a:Sensor/a:TimeSeriesVariable[@variableType=\"Motion\"]',namespaces=NS)\n",
    "tsvs"
   ]
  },
  {
   "cell_type": "markdown",
   "metadata": {},
   "source": [
    "## Get TimeSeriesVariables ids"
   ]
  },
  {
   "cell_type": "code",
   "execution_count": 27,
   "metadata": {},
   "outputs": [
    {
     "data": {
      "text/plain": [
       "['TimeSeriesVariable2192']"
      ]
     },
     "execution_count": 27,
     "metadata": {},
     "output_type": "execute_result"
    }
   ],
   "source": [
    "tsv_ids=[tsv.get('id') for tsv in tsvs]\n",
    "tsv_ids"
   ]
  },
  {
   "cell_type": "markdown",
   "metadata": {},
   "source": [
    "## Get measurements from csv file"
   ]
  },
  {
   "cell_type": "code",
   "execution_count": 30,
   "metadata": {},
   "outputs": [
    {
     "name": "stdout",
     "output_type": "stream",
     "text": [
      "number of measurments: 35442\n"
     ]
    },
    {
     "data": {
      "text/html": [
       "<div>\n",
       "<style scoped>\n",
       "    .dataframe tbody tr th:only-of-type {\n",
       "        vertical-align: middle;\n",
       "    }\n",
       "\n",
       "    .dataframe tbody tr th {\n",
       "        vertical-align: top;\n",
       "    }\n",
       "\n",
       "    .dataframe thead th {\n",
       "        text-align: right;\n",
       "    }\n",
       "</style>\n",
       "<table border=\"1\" class=\"dataframe\">\n",
       "  <thead>\n",
       "    <tr style=\"text-align: right;\">\n",
       "      <th></th>\n",
       "      <th>TimeSeriesVariable/@id</th>\n",
       "      <th>dateTime</th>\n",
       "      <th>data</th>\n",
       "    </tr>\n",
       "  </thead>\n",
       "  <tbody>\n",
       "    <tr>\n",
       "      <th>22575414</th>\n",
       "      <td>TimeSeriesVariable2192</td>\n",
       "      <td>2014-07-23T14:37:00Z</td>\n",
       "      <td>-10004.0</td>\n",
       "    </tr>\n",
       "    <tr>\n",
       "      <th>22575415</th>\n",
       "      <td>TimeSeriesVariable2192</td>\n",
       "      <td>2014-07-23T14:37:00Z</td>\n",
       "      <td>-10004.0</td>\n",
       "    </tr>\n",
       "    <tr>\n",
       "      <th>22575416</th>\n",
       "      <td>TimeSeriesVariable2192</td>\n",
       "      <td>2014-07-23T14:38:00Z</td>\n",
       "      <td>-10004.0</td>\n",
       "    </tr>\n",
       "    <tr>\n",
       "      <th>22575417</th>\n",
       "      <td>TimeSeriesVariable2192</td>\n",
       "      <td>2014-07-23T14:38:00Z</td>\n",
       "      <td>-10004.0</td>\n",
       "    </tr>\n",
       "    <tr>\n",
       "      <th>22575418</th>\n",
       "      <td>TimeSeriesVariable2192</td>\n",
       "      <td>2014-07-23T14:41:00Z</td>\n",
       "      <td>-10004.0</td>\n",
       "    </tr>\n",
       "  </tbody>\n",
       "</table>\n",
       "</div>"
      ],
      "text/plain": [
       "          TimeSeriesVariable/@id              dateTime     data\n",
       "22575414  TimeSeriesVariable2192  2014-07-23T14:37:00Z -10004.0\n",
       "22575415  TimeSeriesVariable2192  2014-07-23T14:37:00Z -10004.0\n",
       "22575416  TimeSeriesVariable2192  2014-07-23T14:38:00Z -10004.0\n",
       "22575417  TimeSeriesVariable2192  2014-07-23T14:38:00Z -10004.0\n",
       "22575418  TimeSeriesVariable2192  2014-07-23T14:41:00Z -10004.0"
      ]
     },
     "execution_count": 30,
     "metadata": {},
     "output_type": "execute_result"
    }
   ],
   "source": [
    "result=df[df['TimeSeriesVariable/@id'].isin(tsv_ids)].copy()\n",
    "print('number of measurments:',len(result))\n",
    "result.head()"
   ]
  },
  {
   "cell_type": "markdown",
   "metadata": {},
   "source": [
    "## Format results"
   ]
  },
  {
   "cell_type": "code",
   "execution_count": 31,
   "metadata": {},
   "outputs": [
    {
     "data": {
      "text/html": [
       "<div>\n",
       "<style scoped>\n",
       "    .dataframe tbody tr th:only-of-type {\n",
       "        vertical-align: middle;\n",
       "    }\n",
       "\n",
       "    .dataframe tbody tr th {\n",
       "        vertical-align: top;\n",
       "    }\n",
       "\n",
       "    .dataframe thead th {\n",
       "        text-align: right;\n",
       "    }\n",
       "</style>\n",
       "<table border=\"1\" class=\"dataframe\">\n",
       "  <thead>\n",
       "    <tr style=\"text-align: right;\">\n",
       "      <th></th>\n",
       "      <th>TimeSeriesVariable/@id</th>\n",
       "      <th>data</th>\n",
       "    </tr>\n",
       "    <tr>\n",
       "      <th>dateTime</th>\n",
       "      <th></th>\n",
       "      <th></th>\n",
       "    </tr>\n",
       "  </thead>\n",
       "  <tbody>\n",
       "    <tr>\n",
       "      <th>2014-07-23 14:37:00+00:00</th>\n",
       "      <td>TimeSeriesVariable2192</td>\n",
       "      <td>-10004.0</td>\n",
       "    </tr>\n",
       "    <tr>\n",
       "      <th>2014-07-23 14:37:00+00:00</th>\n",
       "      <td>TimeSeriesVariable2192</td>\n",
       "      <td>-10004.0</td>\n",
       "    </tr>\n",
       "    <tr>\n",
       "      <th>2014-07-23 14:38:00+00:00</th>\n",
       "      <td>TimeSeriesVariable2192</td>\n",
       "      <td>-10004.0</td>\n",
       "    </tr>\n",
       "    <tr>\n",
       "      <th>2014-07-23 14:38:00+00:00</th>\n",
       "      <td>TimeSeriesVariable2192</td>\n",
       "      <td>-10004.0</td>\n",
       "    </tr>\n",
       "    <tr>\n",
       "      <th>2014-07-23 14:41:00+00:00</th>\n",
       "      <td>TimeSeriesVariable2192</td>\n",
       "      <td>-10004.0</td>\n",
       "    </tr>\n",
       "  </tbody>\n",
       "</table>\n",
       "</div>"
      ],
      "text/plain": [
       "                           TimeSeriesVariable/@id     data\n",
       "dateTime                                                  \n",
       "2014-07-23 14:37:00+00:00  TimeSeriesVariable2192 -10004.0\n",
       "2014-07-23 14:37:00+00:00  TimeSeriesVariable2192 -10004.0\n",
       "2014-07-23 14:38:00+00:00  TimeSeriesVariable2192 -10004.0\n",
       "2014-07-23 14:38:00+00:00  TimeSeriesVariable2192 -10004.0\n",
       "2014-07-23 14:41:00+00:00  TimeSeriesVariable2192 -10004.0"
      ]
     },
     "execution_count": 31,
     "metadata": {},
     "output_type": "execute_result"
    }
   ],
   "source": [
    "result2=result.set_index('dateTime')\n",
    "result2.index=pd.to_datetime(result2.index)\n",
    "result2=result2.sort_index()\n",
    "result2.head()"
   ]
  },
  {
   "cell_type": "markdown",
   "metadata": {},
   "source": [
    "## Plot measurements"
   ]
  },
  {
   "cell_type": "code",
   "execution_count": 34,
   "metadata": {},
   "outputs": [
    {
     "name": "stdout",
     "output_type": "stream",
     "text": [
      "Figure X: Internal air temperatures in the living room of Building 01 as measured by Hobo Onset sensors\n"
     ]
    },
    {
     "data": {
      "image/png": "[encoded data removed]",
      "text/plain": [
       "<Figure size 1152x504 with 1 Axes>"
      ]
     },
     "metadata": {
      "needs_background": "light"
     },
     "output_type": "display_data"
    }
   ],
   "source": [
    "%matplotlib inline\n",
    "fig, ax = plt.subplots(figsize=(16, 7))\n",
    "ax.plot(result2['data'][0:1000],'o',color='grey')\n",
    "myFmt = mdates.DateFormatter('%b %Y')\n",
    "ax.xaxis.set_major_formatter(myFmt)\n",
    "ax.grid(linestyle='--')\n",
    "ax.set_xlabel('Date',fontsize=14)\n",
    "ax.set_ylabel('Air temperature (C)',fontsize=14)\n",
    "print('Figure X: Internal air temperatures in the living room of Building 01 as measured by Hobo Onset sensors')"
   ]
  },
  {
   "cell_type": "markdown",
   "metadata": {},
   "source": [
    "## Save plot"
   ]
  },
  {
   "cell_type": "code",
   "execution_count": 12,
   "metadata": {},
   "outputs": [],
   "source": [
    "fig.savefig('how_to_plot_living_room_temperature_in_Building_1.png',bbox_inches='tight', pad_inches=0.25)"
   ]
  },
  {
   "cell_type": "code",
   "execution_count": null,
   "metadata": {},
   "outputs": [],
   "source": []
  }
 ],
 "metadata": {
  "kernelspec": {
   "display_name": "Python 3",
   "language": "python",
   "name": "python3"
  },
  "language_info": {
   "codemirror_mode": {
    "name": "ipython",
    "version": 3
   },
   "file_extension": ".py",
   "mimetype": "text/x-python",
   "name": "python",
   "nbconvert_exporter": "python",
   "pygments_lexer": "ipython3",
   "version": "3.7.3"
  }
 },
 "nbformat": 4,
 "nbformat_minor": 2
}
