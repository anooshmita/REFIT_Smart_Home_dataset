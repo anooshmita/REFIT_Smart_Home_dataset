{
 "cells": [
  {
   "cell_type": "markdown",
   "metadata": {},
   "source": [
    "# how_to_count_all_objects\n",
    "\n",
    "The REFIT_BUILDING_SURVEY.xml contains a number of objects or elements. This notebook counts these elements."
   ]
  },
  {
   "cell_type": "markdown",
   "metadata": {},
   "source": [
    "## Import packages"
   ]
  },
  {
   "cell_type": "code",
   "execution_count": 1,
   "metadata": {},
   "outputs": [],
   "source": [
    "from lxml import etree\n",
    "import pandas as pd \n",
    "import os"
   ]
  },
  {
   "cell_type": "markdown",
   "metadata": {},
   "source": [
    "## Setup data folder\n",
    "\n",
    "This is the folder where the REFIT_BUILDING_SURVEY.xml file is stored. This can be modified as needed."
   ]
  },
  {
   "cell_type": "code",
   "execution_count": 5,
   "metadata": {},
   "outputs": [],
   "source": [
    "data_folder=r'C:\\Users\\cvskf\\OneDrive - Loughborough University\\_Data\\REFIT_Smart_Home_dataset_PUBLIC_v1\\Data'"
   ]
  },
  {
   "cell_type": "markdown",
   "metadata": {},
   "source": [
    "## Read the xml file\n",
    "\n",
    "Parses the refitXML file into an lxml etree variable"
   ]
  },
  {
   "cell_type": "code",
   "execution_count": 3,
   "metadata": {},
   "outputs": [],
   "source": [
    "xml_fn=r'REFIT_BUILDING_SURVEY.xml'\n",
    "tree=etree.parse(os.path.join(data_folder,xml_fn))"
   ]
  },
  {
   "cell_type": "markdown",
   "metadata": {},
   "source": [
    "## Counts the objects in the xml file"
   ]
  },
  {
   "cell_type": "code",
   "execution_count": 4,
   "metadata": {},
   "outputs": [
    {
     "data": {
      "text/plain": [
       "{http://www.refitsmarthomes.org}Appliance              618\n",
       "{http://www.refitsmarthomes.org}Boiler                  20\n",
       "{http://www.refitsmarthomes.org}BoilerControl           20\n",
       "{http://www.refitsmarthomes.org}Building                20\n",
       "{http://www.refitsmarthomes.org}Climate                  1\n",
       "{http://www.refitsmarthomes.org}Cooker                  19\n",
       "{http://www.refitsmarthomes.org}FixedHeater             19\n",
       "{http://www.refitsmarthomes.org}HotWaterCylinder        13\n",
       "{http://www.refitsmarthomes.org}Household               20\n",
       "{http://www.refitsmarthomes.org}Light                  319\n",
       "{http://www.refitsmarthomes.org}Meter                   40\n",
       "{http://www.refitsmarthomes.org}Opening               1055\n",
       "{http://www.refitsmarthomes.org}Person                  58\n",
       "{http://www.refitsmarthomes.org}PhotovoltaicArray        5\n",
       "{http://www.refitsmarthomes.org}Plug                   421\n",
       "{http://www.refitsmarthomes.org}Radiator               252\n",
       "{http://www.refitsmarthomes.org}RadiatorValve          367\n",
       "{http://www.refitsmarthomes.org}RefitXML                 1\n",
       "{http://www.refitsmarthomes.org}RoomThermostat          31\n",
       "{http://www.refitsmarthomes.org}Sensor                1567\n",
       "{http://www.refitsmarthomes.org}SolarThermalArray        3\n",
       "{http://www.refitsmarthomes.org}Space                  389\n",
       "{http://www.refitsmarthomes.org}Stock                    1\n",
       "{http://www.refitsmarthomes.org}Surface               2536\n",
       "{http://www.refitsmarthomes.org}TimeSeriesVariable    2457\n",
       "{http://www.refitsmarthomes.org}WaterOutlet             34\n",
       "dtype: int64"
      ]
     },
     "execution_count": 4,
     "metadata": {},
     "output_type": "execute_result"
    }
   ],
   "source": [
    "NS={'a':'http://www.refitsmarthomes.org'}\n",
    "elements=tree.getroot().xpath('//a:*',namespaces=NS)\n",
    "tags=[e.tag for e in elements]\n",
    "pd.Series(data=tags).value_counts().sort_index()"
   ]
  },
  {
   "cell_type": "code",
   "execution_count": null,
   "metadata": {},
   "outputs": [],
   "source": []
  }
 ],
 "metadata": {
  "kernelspec": {
   "display_name": "Python 3",
   "language": "python",
   "name": "python3"
  },
  "language_info": {
   "codemirror_mode": {
    "name": "ipython",
    "version": 3
   },
   "file_extension": ".py",
   "mimetype": "text/x-python",
   "name": "python",
   "nbconvert_exporter": "python",
   "pygments_lexer": "ipython3",
   "version": "3.7.3"
  }
 },
 "nbformat": 4,
 "nbformat_minor": 2
}
